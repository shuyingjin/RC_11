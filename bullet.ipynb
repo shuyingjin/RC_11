{
 "cells": [
  {
   "cell_type": "code",
   "execution_count": 1,
   "metadata": {},
   "outputs": [],
   "source": [
    "import jieba\n",
    "from sklearn.feature_extraction.text import TfidfVectorizer\n",
    "from sklearn.metrics.pairwise import cosine_similarity\n",
    "from youdaoai import Translation\n",
    "import re\n",
    "import os\n",
    "from tqdm import tqdm\n",
    "import time"
   ]
  },
  {
   "cell_type": "code",
   "execution_count": null,
   "metadata": {},
   "outputs": [],
   "source": [
    "\n",
    "def extract_ass_events(file_path):\n",
    "    \"\"\"\n",
    "    从ASS文件中提取[Events]字段的Start, End, Text，并将其组合成字典列表。\n",
    "    同时移除Text字段中的格式标签（例如{\\\\move(1920, 0, -480, 0)}等）。\n",
    "\n",
    "    :param file_path: ASS文件的路径\n",
    "    :return: 包含Start, End, Text字段字典的列表\n",
    "    \"\"\"\n",
    "    # 读取ASS文件内容\n",
    "    with open(file_path, 'r', encoding='utf-8') as file:\n",
    "        ass_content = file.read()\n",
    "\n",
    "    # 正则表达式匹配[Events]字段的Dialogue行，提取Start, End和Text字段\n",
    "    pattern = r'Dialogue:.*?,(.*?),(.*?),(.*?),.*?,.*?,.*?,.*?,.*?,(.*)'\n",
    "\n",
    "    # 用来存储提取出来的数据\n",
    "    events = []\n",
    "\n",
    "    # 查找所有匹配的行\n",
    "    matches = re.findall(pattern, ass_content)\n",
    "\n",
    "    # 正则表达式用于清除Text中的格式标签\n",
    "    format_tag_pattern = r'{.*?}'\n",
    "\n",
    "    # 将每个匹配项处理成字典并添加到列表中\n",
    "    for match in matches:\n",
    "        start, end, _, text = match\n",
    "        # 移除Text字段中的格式标签\n",
    "        cleaned_text = re.sub(format_tag_pattern, '', text).strip()\n",
    "\n",
    "        event_dict = {\n",
    "            'Timeline': start+\"-\"+end,\n",
    "            'Text': cleaned_text\n",
    "        }\n",
    "        events.append(event_dict)\n",
    "\n",
    "    return events\n",
    "\n",
    "\n",
    "def compute_similarity(sentence1, sentence2):\n",
    "    # 中文分词\n",
    "    sentence1 = \" \".join(jieba.cut(sentence1))\n",
    "    sentence2 = \" \".join(jieba.cut(sentence2))\n",
    "\n",
    "    # 初始化TF-IDF向量化器\n",
    "    vectorizer = TfidfVectorizer()\n",
    "\n",
    "    # 将两句话转换为TF-IDF矩阵\n",
    "    tfidf_matrix = vectorizer.fit_transform([sentence1, sentence2])\n",
    "\n",
    "    # 计算两个向量之间的余弦相似度\n",
    "    cosine_sim = cosine_similarity(tfidf_matrix[0], tfidf_matrix[1])\n",
    "\n",
    "    return cosine_sim[0][0]\n",
    "\n",
    "\n",
    "def rank_and_save_similar_texts(events, templates, output_file):\n",
    "    \"\"\"\n",
    "    对每个弹幕的Text字段与模板句子列表中的句子进行相似度计算，\n",
    "    并返回与最相似模板句子的前10项相似度最高的文本，\n",
    "    最后将结果保存到指定的文件中。\n",
    "\n",
    "    :param events: 含有Start, End, Text字段的事件列表\n",
    "    :param templates: 用于比较相似度的模板句子列表\n",
    "    :param output_file: 输出文件的路径\n",
    "    \"\"\"\n",
    "    similarities = []\n",
    "\n",
    "    # 对每个事件计算与所有模板句子的相似度\n",
    "    for event in events:\n",
    "        text = event['Text']\n",
    "        # 计算与模板句子的相似度，选择最高的相似度\n",
    "        best_similarity = max(compute_similarity(text, template)\n",
    "                              for template in templates)\n",
    "\n",
    "        # 将相似度得分和事件数据一起存储\n",
    "        event_with_score = event.copy()  # 防止修改原始事件\n",
    "        event_with_score['Similarity'] = best_similarity\n",
    "        similarities.append((event_with_score, best_similarity))\n",
    "\n",
    "    # 按照相似度降序排序\n",
    "    similarities.sort(key=lambda x: x[1], reverse=True)\n",
    "\n",
    "    # 返回相似度最高的前10项，带有得分\n",
    "    top_10_similar_events = [event for event, _ in similarities[:10]]\n",
    "\n",
    "    # 保存结果到文件\n",
    "    with open(output_file, 'w', encoding='utf-8') as f:\n",
    "        for i, event in enumerate(top_10_similar_events, start=1):\n",
    "            f.write(\n",
    "                f\"{i}. Timeline: {event['Timeline']}, Context: {event['Text']}, Similarity: {event['Similarity']:.4f}\\n\")\n",
    "\n",
    "    print(f\"Top 10 similar events have been saved to {output_file}\")\n",
    "\n",
    "\n",
    "def read_file_to_list(file_path):\n",
    "    with open(file_path, 'r', encoding='utf-8') as file:\n",
    "        lines = file.readlines()\n",
    "    return [line.strip() for line in lines]\n",
    "\n",
    "\n",
    "def get_file_paths(file_pairs_path):\n",
    "    \"\"\"\n",
    "    从给定的文件对文本文件中读取每一行，返回两个文件的完整路径。\n",
    "\n",
    "    :param file_pairs_path: 包含文件对的文本文件路径\n",
    "    :return: 一个列表，包含元组，每个元组由两个文件的完整路径组成\n",
    "    \"\"\"\n",
    "    paths = []\n",
    "\n",
    "    # 打开并读取文件\n",
    "    with open(file_pairs_path, 'r', encoding='utf-8') as f:\n",
    "        for line in f:\n",
    "            # 去掉可能存在的换行符\n",
    "            line = line.strip()\n",
    "\n",
    "            # 分割每一行的两个文件名\n",
    "            standard_file, bullet_file = line.split(',')\n",
    "\n",
    "            # 构建文件的完整路径\n",
    "            bullet_path = f\"bullet/{bullet_file}\"\n",
    "            standard_path = f\"standard/{standard_file}\"\n",
    "\n",
    "            # 将文件对的路径添加到列表中\n",
    "            paths.append((bullet_path, standard_path))\n",
    "\n",
    "    return paths\n",
    "\n",
    "\n",
    "def generate_output_filename(bullet_file, standard_file):\n",
    "    \"\"\"\n",
    "    根据bullet_file和standard_file生成output_file的路径，路径保存在result文件夹下，\n",
    "    文件名格式为：bullet_file_name-standard_file_name.txt\n",
    "\n",
    "    :param bullet_file: bullet文件的文件名\n",
    "    :param standard_file: standard文件的文件名\n",
    "    :return: 生成的output_file路径\n",
    "    \"\"\"\n",
    "    # 提取文件名（不带路径部分），去掉扩展名\n",
    "    bullet_name = os.path.splitext(os.path.basename(bullet_file))[0]\n",
    "    standard_name = os.path.splitext(os.path.basename(standard_file))[0]\n",
    "\n",
    "    # 生成输出文件的文件名\n",
    "    output_filename = f\"{bullet_name}-{standard_name}.txt\"\n",
    "\n",
    "    # 确保result文件夹存在\n",
    "    os.makedirs('result', exist_ok=True)\n",
    "\n",
    "    # 返回完整的文件路径\n",
    "    output_file_path = os.path.join('result', output_filename)\n",
    "    return output_file_path\n",
    "\n",
    "\n",
    "task_list = get_file_paths(\"task_list.txt\")\n",
    "\n",
    "for pair in tqdm(task_list):\n",
    "    bullet_file, standard_file = pair\n",
    "    danmaku_list = extract_ass_events(bullet_file)\n",
    "\n",
    "    templates = read_file_to_list(standard_file)\n",
    "    output_file = generate_output_filename(bullet_file, standard_file)\n",
    "    rank_and_save_similar_texts(danmaku_list, templates, output_file)"
   ]
  },
  {
   "cell_type": "code",
   "execution_count": 2,
   "metadata": {},
   "outputs": [
    {
     "name": "stderr",
     "output_type": "stream",
     "text": [
      "  3%|▎         | 1/37 [00:31<18:50, 31.41s/it]"
     ]
    },
    {
     "name": "stdout",
     "output_type": "stream",
     "text": [
      "Modified content saved to result_translated/Totoro 1- Harmony in Diversity.txt\n"
     ]
    },
    {
     "name": "stderr",
     "output_type": "stream",
     "text": [
      "  5%|▌         | 2/37 [01:02<18:22, 31.50s/it]"
     ]
    },
    {
     "name": "stdout",
     "output_type": "stream",
     "text": [
      "Modified content saved to result_translated/Princess Mononoke 1- One Man.txt\n"
     ]
    },
    {
     "name": "stderr",
     "output_type": "stream",
     "text": [
      "  8%|▊         | 3/37 [01:35<18:01, 31.81s/it]"
     ]
    },
    {
     "name": "stdout",
     "output_type": "stream",
     "text": [
      "Modified content saved to result_translated/Make Heavenly palace 1- artificial.txt\n"
     ]
    },
    {
     "name": "stderr",
     "output_type": "stream",
     "text": [
      " 11%|█         | 4/37 [02:07<17:32, 31.90s/it]"
     ]
    },
    {
     "name": "stdout",
     "output_type": "stream",
     "text": [
      "Modified content saved to result_translated/Wushan Five Elements 2- Yin and Yang.txt\n"
     ]
    },
    {
     "name": "stderr",
     "output_type": "stream",
     "text": [
      " 14%|█▎        | 5/37 [02:38<16:58, 31.82s/it]"
     ]
    },
    {
     "name": "stdout",
     "output_type": "stream",
     "text": [
      "Modified content saved to result_translated/Five centimetres per second. - One thing.txt\n"
     ]
    },
    {
     "name": "stderr",
     "output_type": "stream",
     "text": [
      " 16%|█▌        | 6/37 [03:10<16:29, 31.92s/it]"
     ]
    },
    {
     "name": "stdout",
     "output_type": "stream",
     "text": [
      "Modified content saved to result_translated/Son of the Sea Beast 1- The philosophy of Water.txt\n"
     ]
    },
    {
     "name": "stderr",
     "output_type": "stream",
     "text": [
      " 19%|█▉        | 7/37 [03:42<15:56, 31.88s/it]"
     ]
    },
    {
     "name": "stdout",
     "output_type": "stream",
     "text": [
      "Modified content saved to result_translated/Spirited Away 1- Harmony in Diversity.txt\n"
     ]
    },
    {
     "name": "stderr",
     "output_type": "stream",
     "text": [
      " 22%|██▏       | 8/37 [04:14<15:25, 31.90s/it]"
     ]
    },
    {
     "name": "stdout",
     "output_type": "stream",
     "text": [
      "Modified content saved to result_translated/Deep Sea 1- Inner peace.txt\n"
     ]
    },
    {
     "name": "stderr",
     "output_type": "stream",
     "text": [
      " 24%|██▍       | 9/37 [04:46<14:53, 31.89s/it]"
     ]
    },
    {
     "name": "stdout",
     "output_type": "stream",
     "text": [
      "Modified content saved to result_translated/panda2- Yin and Yang.txt\n"
     ]
    },
    {
     "name": "stderr",
     "output_type": "stream",
     "text": [
      " 27%|██▋       | 10/37 [05:18<14:21, 31.91s/it]"
     ]
    },
    {
     "name": "stdout",
     "output_type": "stream",
     "text": [
      "Modified content saved to result_translated/Monkey King 1- One of the three poisons in Buddhism.txt\n"
     ]
    },
    {
     "name": "stderr",
     "output_type": "stream",
     "text": [
      " 30%|██▉       | 11/37 [05:50<13:47, 31.81s/it]"
     ]
    },
    {
     "name": "stdout",
     "output_type": "stream",
     "text": [
      "Modified content saved to result_translated/Spirited Away 2- Harmony in Diversity.txt\n"
     ]
    },
    {
     "name": "stderr",
     "output_type": "stream",
     "text": [
      " 32%|███▏      | 12/37 [06:22<13:17, 31.91s/it]"
     ]
    },
    {
     "name": "stdout",
     "output_type": "stream",
     "text": [
      "Modified content saved to result_translated/panda2- The philosophy of water.txt\n"
     ]
    },
    {
     "name": "stderr",
     "output_type": "stream",
     "text": [
      " 35%|███▌      | 13/37 [06:54<12:47, 31.97s/it]"
     ]
    },
    {
     "name": "stdout",
     "output_type": "stream",
     "text": [
      "Modified content saved to result_translated/Sun Wukong 1- Nature is good and nature is evil.txt\n"
     ]
    },
    {
     "name": "stderr",
     "output_type": "stream",
     "text": [
      " 38%|███▊      | 14/37 [07:26<12:16, 32.04s/it]"
     ]
    },
    {
     "name": "stdout",
     "output_type": "stream",
     "text": [
      "Modified content saved to result_translated/Reincarnation Room 2- Reincarnation.txt\n"
     ]
    },
    {
     "name": "stderr",
     "output_type": "stream",
     "text": [
      " 41%|████      | 15/37 [07:58<11:43, 31.96s/it]"
     ]
    },
    {
     "name": "stdout",
     "output_type": "stream",
     "text": [
      "Modified content saved to result_translated/Spirited Away 1- one of the three poisons in Buddhism.txt\n"
     ]
    },
    {
     "name": "stderr",
     "output_type": "stream",
     "text": [
      " 43%|████▎     | 16/37 [08:30<11:13, 32.07s/it]"
     ]
    },
    {
     "name": "stdout",
     "output_type": "stream",
     "text": [
      "Modified content saved to result_translated/Goose Goose Goose 2- one of the three poisons in Buddhism.txt\n"
     ]
    },
    {
     "name": "stderr",
     "output_type": "stream",
     "text": [
      " 46%|████▌     | 17/37 [09:02<10:41, 32.08s/it]"
     ]
    },
    {
     "name": "stdout",
     "output_type": "stream",
     "text": [
      "Modified content saved to result_translated/Goose goose goose 2- Reincarnation.txt\n"
     ]
    },
    {
     "name": "stderr",
     "output_type": "stream",
     "text": [
      " 49%|████▊     | 18/37 [09:34<10:09, 32.08s/it]"
     ]
    },
    {
     "name": "stdout",
     "output_type": "stream",
     "text": [
      "Modified content saved to result_translated/panda2- Inner peace.txt\n"
     ]
    },
    {
     "name": "stderr",
     "output_type": "stream",
     "text": [
      " 51%|█████▏    | 19/37 [10:06<09:37, 32.08s/it]"
     ]
    },
    {
     "name": "stdout",
     "output_type": "stream",
     "text": [
      "Modified content saved to result_translated/Spirited Away 2- Unity of nature and man.txt\n"
     ]
    },
    {
     "name": "stderr",
     "output_type": "stream",
     "text": [
      " 54%|█████▍    | 20/37 [10:38<09:04, 32.04s/it]"
     ]
    },
    {
     "name": "stdout",
     "output_type": "stream",
     "text": [
      "Modified content saved to result_translated/Monkey King 2- Destiny.txt\n"
     ]
    },
    {
     "name": "stderr",
     "output_type": "stream",
     "text": [
      " 57%|█████▋    | 21/37 [11:10<08:31, 32.00s/it]"
     ]
    },
    {
     "name": "stdout",
     "output_type": "stream",
     "text": [
      "Modified content saved to result_translated/Totoro 2- Harmony in Diversity.txt\n"
     ]
    },
    {
     "name": "stderr",
     "output_type": "stream",
     "text": [
      " 59%|█████▉    | 22/37 [11:42<08:00, 32.01s/it]"
     ]
    },
    {
     "name": "stdout",
     "output_type": "stream",
     "text": [
      "Modified content saved to result_translated/Nezha 1- Destiny.txt\n"
     ]
    },
    {
     "name": "stderr",
     "output_type": "stream",
     "text": [
      " 62%|██████▏   | 23/37 [12:14<07:28, 32.01s/it]"
     ]
    },
    {
     "name": "stdout",
     "output_type": "stream",
     "text": [
      "Modified content saved to result_translated/Spirited Away 2- one of the three poisons in Buddhism.txt\n"
     ]
    },
    {
     "name": "stderr",
     "output_type": "stream",
     "text": [
      " 65%|██████▍   | 24/37 [12:46<06:55, 31.93s/it]"
     ]
    },
    {
     "name": "stdout",
     "output_type": "stream",
     "text": [
      "Modified content saved to result_translated/Goose Goose Goose 1- one of the three poisons in Buddhism.txt\n"
     ]
    },
    {
     "name": "stderr",
     "output_type": "stream",
     "text": [
      " 68%|██████▊   | 25/37 [13:18<06:22, 31.90s/it]"
     ]
    },
    {
     "name": "stdout",
     "output_type": "stream",
     "text": [
      "Modified content saved to result_translated/Five centimetres per second. - One thing.txt\n"
     ]
    },
    {
     "name": "stderr",
     "output_type": "stream",
     "text": [
      " 70%|███████   | 26/37 [13:50<05:51, 31.92s/it]"
     ]
    },
    {
     "name": "stdout",
     "output_type": "stream",
     "text": [
      "Modified content saved to result_translated/panda1- Inner peace.txt\n"
     ]
    },
    {
     "name": "stderr",
     "output_type": "stream",
     "text": [
      " 73%|███████▎  | 27/37 [14:22<05:19, 31.94s/it]"
     ]
    },
    {
     "name": "stdout",
     "output_type": "stream",
     "text": [
      "Modified content saved to result_translated/Princess Mononoke 2- One Man.txt\n"
     ]
    },
    {
     "name": "stderr",
     "output_type": "stream",
     "text": [
      " 76%|███████▌  | 28/37 [14:54<04:47, 31.98s/it]"
     ]
    },
    {
     "name": "stdout",
     "output_type": "stream",
     "text": [
      "Modified content saved to result_translated/Misty Mountain five elements 1- Yin and Yang.txt\n"
     ]
    },
    {
     "name": "stderr",
     "output_type": "stream",
     "text": [
      " 78%|███████▊  | 29/37 [15:26<04:15, 31.98s/it]"
     ]
    },
    {
     "name": "stdout",
     "output_type": "stream",
     "text": [
      "Modified content saved to result_translated/Spirited Away 1- Unity of nature and man.txt\n"
     ]
    },
    {
     "name": "stderr",
     "output_type": "stream",
     "text": [
      " 81%|████████  | 30/37 [15:58<03:43, 31.90s/it]"
     ]
    },
    {
     "name": "stdout",
     "output_type": "stream",
     "text": [
      "Modified content saved to result_translated/Goose goose goose 1- Reincarnation.txt\n"
     ]
    },
    {
     "name": "stderr",
     "output_type": "stream",
     "text": [
      " 84%|████████▍ | 31/37 [16:30<03:11, 31.94s/it]"
     ]
    },
    {
     "name": "stdout",
     "output_type": "stream",
     "text": [
      "Modified content saved to result_translated/panda1- Yin and Yang.txt\n"
     ]
    },
    {
     "name": "stderr",
     "output_type": "stream",
     "text": [
      " 86%|████████▋ | 32/37 [17:01<02:39, 31.90s/it]"
     ]
    },
    {
     "name": "stdout",
     "output_type": "stream",
     "text": [
      "Modified content saved to result_translated/Nezha 1- Human.txt\n"
     ]
    },
    {
     "name": "stderr",
     "output_type": "stream",
     "text": [
      " 89%|████████▉ | 33/37 [17:33<02:07, 31.85s/it]"
     ]
    },
    {
     "name": "stdout",
     "output_type": "stream",
     "text": [
      "Modified content saved to result_translated/Nezha 1- Human effort.txt\n"
     ]
    },
    {
     "name": "stderr",
     "output_type": "stream",
     "text": [
      " 92%|█████████▏| 34/37 [18:05<01:35, 31.90s/it]"
     ]
    },
    {
     "name": "stdout",
     "output_type": "stream",
     "text": [
      "Modified content saved to result_translated/The Forest of firefly 1- mourning.txt\n"
     ]
    },
    {
     "name": "stderr",
     "output_type": "stream",
     "text": [
      " 95%|█████████▍| 35/37 [18:38<01:04, 32.16s/it]"
     ]
    },
    {
     "name": "stdout",
     "output_type": "stream",
     "text": [
      "Modified content saved to result_translated/Reincarnation Room 1- Reincarnation.txt\n"
     ]
    },
    {
     "name": "stderr",
     "output_type": "stream",
     "text": [
      " 97%|█████████▋| 36/37 [19:11<00:32, 32.38s/it]"
     ]
    },
    {
     "name": "stdout",
     "output_type": "stream",
     "text": [
      "Modified content saved to result_translated/Uproar in Heaven 1- Human effort.txt\n"
     ]
    },
    {
     "name": "stderr",
     "output_type": "stream",
     "text": [
      "100%|██████████| 37/37 [19:43<00:00, 32.00s/it]"
     ]
    },
    {
     "name": "stdout",
     "output_type": "stream",
     "text": [
      "Modified content saved to result_translated/panda1- The philosophy of water.txt\n"
     ]
    },
    {
     "name": "stderr",
     "output_type": "stream",
     "text": [
      "\n"
     ]
    }
   ],
   "source": [
    "import os\n",
    "import re\n",
    "from youdaoai import Translation\n",
    "\n",
    "\n",
    "def replace_and_translate(file_path, output_dir, app_key, app_secret, from_lang='zh-CHS', to_lang='en', delay=3):\n",
    "    # Initialize the translation service\n",
    "    translator = Translation(app_key, app_secret)\n",
    "\n",
    "    # Read the content of the provided file\n",
    "    with open(file_path, 'r', encoding='utf-8') as file:\n",
    "        txt_content = file.read()\n",
    "\n",
    "    # Extract the base name of the file without extension\n",
    "    base_name = os.path.splitext(os.path.basename(file_path))[0]\n",
    "\n",
    "    # Translate the base name using the translation function\n",
    "    translated_file_name = translator.translate(base_name, from_lang, to_lang)[\n",
    "        'translation'][0] + \".txt\"\n",
    "\n",
    "    # Build the full output path\n",
    "    full_output_path = os.path.join(output_dir, translated_file_name)\n",
    "\n",
    "    # Regex pattern to capture context field\n",
    "    context_pattern = r\"Context: (.*?),\"\n",
    "\n",
    "    # Function to replace the context with its translation\n",
    "    def replace_with_translation(match):\n",
    "        original_text = match.group(1)\n",
    "        try:\n",
    "            time.sleep(delay)  # Delay the request to avoid hitting rate limits\n",
    "            result = translator.translate(original_text, from_lang, to_lang)\n",
    "            if 'translation' in result and result['translation']:\n",
    "                return f\"Context: {result['translation'][0]},\"\n",
    "            else:\n",
    "                return f\"Context: Translation failed,\"\n",
    "        except Exception as e:\n",
    "            print(f\"Error translating text {original_text}: {e}\")\n",
    "            return f\"Context: Error,\"\n",
    "\n",
    "    # Replace all contexts with their translations\n",
    "    modified_content = re.sub(\n",
    "        context_pattern, replace_with_translation, txt_content)\n",
    "\n",
    "    # Write the modified content to a new file\n",
    "    with open(full_output_path, 'w', encoding='utf-8') as file:\n",
    "        file.write(modified_content)\n",
    "\n",
    "    print(f\"Modified content saved to {full_output_path}\")\n",
    "\n",
    "\n",
    "def process_all_txt_files(input_dir, output_dir, app_key, app_secret):\n",
    "    # List all files in the input directory\n",
    "    for file_name in tqdm(os.listdir(input_dir)):\n",
    "        # Check if the file is a .txt file\n",
    "        if file_name.endswith('.txt'):\n",
    "            # Construct full file path\n",
    "            file_path = os.path.join(input_dir, file_name)\n",
    "            # Use the replace_and_translate function on the file\n",
    "            replace_and_translate(file_path, output_dir, app_key, app_secret)\n",
    "\n",
    "\n",
    "process_all_txt_files('result', 'result_translated',\n",
    "                      \"253b589fa955a5d7\", \"GTMCbm2iApzmIQXnmsJDGgWnuGhLYfDL\")"
   ]
  }
 ],
 "metadata": {
  "kernelspec": {
   "display_name": "tc2py310",
   "language": "python",
   "name": "python3"
  },
  "language_info": {
   "codemirror_mode": {
    "name": "ipython",
    "version": 3
   },
   "file_extension": ".py",
   "mimetype": "text/x-python",
   "name": "python",
   "nbconvert_exporter": "python",
   "pygments_lexer": "ipython3",
   "version": "3.10.14"
  }
 },
 "nbformat": 4,
 "nbformat_minor": 2
}
