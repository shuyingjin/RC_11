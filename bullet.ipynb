{
 "cells": [
  {
   "cell_type": "code",
   "execution_count": 1,
   "metadata": {},
   "outputs": [],
   "source": [
    "import jieba\n",
    "from sklearn.feature_extraction.text import TfidfVectorizer\n",
    "from sklearn.metrics.pairwise import cosine_similarity\n",
    "from youdaoai import Translation\n",
    "import re\n",
    "import os\n",
    "from tqdm import tqdm\n",
    "import time"
   ]
  },
  {
   "cell_type": "code",
   "execution_count": 2,
   "metadata": {},
   "outputs": [
    {
     "name": "stderr",
     "output_type": "stream",
     "text": [
      "  0%|          | 0/35 [00:00<?, ?it/s]"
     ]
    },
    {
     "name": "stderr",
     "output_type": "stream",
     "text": [
      "Building prefix dict from the default dictionary ...\n",
      "Loading model from cache /var/folders/yc/gy1c5m3s7bx188v4vp4dh3vm0000gn/T/jieba.cache\n",
      "Loading model cost 0.275 seconds.\n",
      "Prefix dict has been built successfully.\n",
      "  3%|▎         | 1/35 [00:16<09:13, 16.27s/it]"
     ]
    },
    {
     "name": "stdout",
     "output_type": "stream",
     "text": [
      "Top 10 similar events have been saved to result/千与千寻1-天人合一.txt\n"
     ]
    },
    {
     "name": "stderr",
     "output_type": "stream",
     "text": [
      "  6%|▌         | 2/35 [00:20<05:00,  9.11s/it]"
     ]
    },
    {
     "name": "stdout",
     "output_type": "stream",
     "text": [
      "Top 10 similar events have been saved to result/千与千寻2-天人合一.txt\n"
     ]
    },
    {
     "name": "stderr",
     "output_type": "stream",
     "text": [
      "  9%|▊         | 3/35 [00:32<05:37, 10.56s/it]"
     ]
    },
    {
     "name": "stdout",
     "output_type": "stream",
     "text": [
      "Top 10 similar events have been saved to result/幽灵公主1-天人合一.txt\n"
     ]
    },
    {
     "name": "stderr",
     "output_type": "stream",
     "text": [
      " 11%|█▏        | 4/35 [00:37<04:23,  8.49s/it]"
     ]
    },
    {
     "name": "stdout",
     "output_type": "stream",
     "text": [
      "Top 10 similar events have been saved to result/幽灵公主2-天人合一.txt\n"
     ]
    },
    {
     "name": "stderr",
     "output_type": "stream",
     "text": [
      " 14%|█▍        | 5/35 [00:45<04:06,  8.21s/it]"
     ]
    },
    {
     "name": "stdout",
     "output_type": "stream",
     "text": [
      "Top 10 similar events have been saved to result/轮回的房间1-轮回.txt\n"
     ]
    },
    {
     "name": "stderr",
     "output_type": "stream",
     "text": [
      " 17%|█▋        | 6/35 [00:48<03:06,  6.44s/it]"
     ]
    },
    {
     "name": "stdout",
     "output_type": "stream",
     "text": [
      "Top 10 similar events have been saved to result/轮回的房间2-轮回.txt\n"
     ]
    },
    {
     "name": "stderr",
     "output_type": "stream",
     "text": [
      " 20%|██        | 7/35 [00:57<03:23,  7.26s/it]"
     ]
    },
    {
     "name": "stdout",
     "output_type": "stream",
     "text": [
      "Top 10 similar events have been saved to result/鹅鹅鹅1-轮回.txt\n"
     ]
    },
    {
     "name": "stderr",
     "output_type": "stream",
     "text": [
      " 23%|██▎       | 8/35 [01:06<03:28,  7.73s/it]"
     ]
    },
    {
     "name": "stdout",
     "output_type": "stream",
     "text": [
      "Top 10 similar events have been saved to result/鹅鹅鹅2-轮回.txt\n"
     ]
    },
    {
     "name": "stderr",
     "output_type": "stream",
     "text": [
      " 26%|██▌       | 9/35 [01:54<08:46, 20.25s/it]"
     ]
    },
    {
     "name": "stdout",
     "output_type": "stream",
     "text": [
      "Top 10 similar events have been saved to result/秒速五厘米1-物哀.txt\n"
     ]
    },
    {
     "name": "stderr",
     "output_type": "stream",
     "text": [
      " 29%|██▊       | 10/35 [03:34<18:42, 44.88s/it]"
     ]
    },
    {
     "name": "stdout",
     "output_type": "stream",
     "text": [
      "Top 10 similar events have been saved to result/秒速五厘米2-物哀.txt\n"
     ]
    },
    {
     "name": "stderr",
     "output_type": "stream",
     "text": [
      " 31%|███▏      | 11/35 [04:02<15:55, 39.83s/it]"
     ]
    },
    {
     "name": "stdout",
     "output_type": "stream",
     "text": [
      "Top 10 similar events have been saved to result/萤火之森1-物哀.txt\n"
     ]
    },
    {
     "name": "stderr",
     "output_type": "stream",
     "text": [
      " 34%|███▍      | 12/35 [04:04<10:47, 28.17s/it]"
     ]
    },
    {
     "name": "stdout",
     "output_type": "stream",
     "text": [
      "Top 10 similar events have been saved to result/哪吒1-天命.txt\n"
     ]
    },
    {
     "name": "stderr",
     "output_type": "stream",
     "text": [
      " 37%|███▋      | 13/35 [04:07<07:32, 20.56s/it]"
     ]
    },
    {
     "name": "stdout",
     "output_type": "stream",
     "text": [
      "Top 10 similar events have been saved to result/孙悟空2-天命.txt\n"
     ]
    },
    {
     "name": "stderr",
     "output_type": "stream",
     "text": [
      " 40%|████      | 14/35 [04:27<07:10, 20.52s/it]"
     ]
    },
    {
     "name": "stdout",
     "output_type": "stream",
     "text": [
      "Top 10 similar events have been saved to result/千与千寻1-多样性中的和谐.txt\n"
     ]
    },
    {
     "name": "stderr",
     "output_type": "stream",
     "text": [
      " 43%|████▎     | 15/35 [04:32<05:17, 15.88s/it]"
     ]
    },
    {
     "name": "stdout",
     "output_type": "stream",
     "text": [
      "Top 10 similar events have been saved to result/千与千寻2-多样性中的和谐.txt\n"
     ]
    },
    {
     "name": "stderr",
     "output_type": "stream",
     "text": [
      " 46%|████▌     | 16/35 [04:36<03:54, 12.34s/it]"
     ]
    },
    {
     "name": "stdout",
     "output_type": "stream",
     "text": [
      "Top 10 similar events have been saved to result/龙猫1-多样性中的和谐.txt\n"
     ]
    },
    {
     "name": "stderr",
     "output_type": "stream",
     "text": [
      " 49%|████▊     | 17/35 [04:40<02:55,  9.74s/it]"
     ]
    },
    {
     "name": "stdout",
     "output_type": "stream",
     "text": [
      "Top 10 similar events have been saved to result/龙猫2-多样性中的和谐.txt\n"
     ]
    },
    {
     "name": "stderr",
     "output_type": "stream",
     "text": [
      " 51%|█████▏    | 18/35 [04:44<02:15,  7.97s/it]"
     ]
    },
    {
     "name": "stdout",
     "output_type": "stream",
     "text": [
      "Top 10 similar events have been saved to result/panda1-水的哲学.txt\n"
     ]
    },
    {
     "name": "stderr",
     "output_type": "stream",
     "text": [
      " 54%|█████▍    | 19/35 [04:48<01:49,  6.82s/it]"
     ]
    },
    {
     "name": "stdout",
     "output_type": "stream",
     "text": [
      "Top 10 similar events have been saved to result/panda2-水的哲学.txt\n"
     ]
    },
    {
     "name": "stderr",
     "output_type": "stream",
     "text": [
      " 57%|█████▋    | 20/35 [04:51<01:24,  5.61s/it]"
     ]
    },
    {
     "name": "stdout",
     "output_type": "stream",
     "text": [
      "Top 10 similar events have been saved to result/海兽之子1-水的哲学.txt\n"
     ]
    },
    {
     "name": "stderr",
     "output_type": "stream",
     "text": [
      " 60%|██████    | 21/35 [05:01<01:36,  6.88s/it]"
     ]
    },
    {
     "name": "stdout",
     "output_type": "stream",
     "text": [
      "Top 10 similar events have been saved to result/千与千寻1-佛教中的三毒之一.txt\n"
     ]
    },
    {
     "name": "stderr",
     "output_type": "stream",
     "text": [
      " 63%|██████▎   | 22/35 [05:03<01:12,  5.56s/it]"
     ]
    },
    {
     "name": "stdout",
     "output_type": "stream",
     "text": [
      "Top 10 similar events have been saved to result/千与千寻2-佛教中的三毒之一.txt\n"
     ]
    },
    {
     "name": "stderr",
     "output_type": "stream",
     "text": [
      " 66%|██████▌   | 23/35 [05:10<01:13,  6.09s/it]"
     ]
    },
    {
     "name": "stdout",
     "output_type": "stream",
     "text": [
      "Top 10 similar events have been saved to result/鹅鹅鹅1-佛教中的三毒之一.txt\n"
     ]
    },
    {
     "name": "stderr",
     "output_type": "stream",
     "text": [
      " 69%|██████▊   | 24/35 [05:18<01:10,  6.39s/it]"
     ]
    },
    {
     "name": "stdout",
     "output_type": "stream",
     "text": [
      "Top 10 similar events have been saved to result/鹅鹅鹅2-佛教中的三毒之一.txt\n"
     ]
    },
    {
     "name": "stderr",
     "output_type": "stream",
     "text": [
      " 71%|███████▏  | 25/35 [05:20<00:52,  5.23s/it]"
     ]
    },
    {
     "name": "stdout",
     "output_type": "stream",
     "text": [
      "Top 10 similar events have been saved to result/孙悟空1-佛教中的三毒之一.txt\n"
     ]
    },
    {
     "name": "stderr",
     "output_type": "stream",
     "text": [
      " 74%|███████▍  | 26/35 [05:24<00:43,  4.87s/it]"
     ]
    },
    {
     "name": "stdout",
     "output_type": "stream",
     "text": [
      "Top 10 similar events have been saved to result/panda1-内心的平静.txt\n"
     ]
    },
    {
     "name": "stderr",
     "output_type": "stream",
     "text": [
      " 77%|███████▋  | 27/35 [05:28<00:37,  4.69s/it]"
     ]
    },
    {
     "name": "stdout",
     "output_type": "stream",
     "text": [
      "Top 10 similar events have been saved to result/panda2-内心的平静.txt\n"
     ]
    },
    {
     "name": "stderr",
     "output_type": "stream",
     "text": [
      " 80%|████████  | 28/35 [05:35<00:36,  5.19s/it]"
     ]
    },
    {
     "name": "stdout",
     "output_type": "stream",
     "text": [
      "Top 10 similar events have been saved to result/深海1-内心的平静.txt\n"
     ]
    },
    {
     "name": "stderr",
     "output_type": "stream",
     "text": [
      " 83%|████████▎ | 29/35 [05:40<00:31,  5.31s/it]"
     ]
    },
    {
     "name": "stdout",
     "output_type": "stream",
     "text": [
      "Top 10 similar events have been saved to result/panda1-阴阳.txt\n"
     ]
    },
    {
     "name": "stderr",
     "output_type": "stream",
     "text": [
      " 86%|████████▌ | 30/35 [05:46<00:27,  5.51s/it]"
     ]
    },
    {
     "name": "stdout",
     "output_type": "stream",
     "text": [
      "Top 10 similar events have been saved to result/panda2-阴阳.txt\n"
     ]
    },
    {
     "name": "stderr",
     "output_type": "stream",
     "text": [
      " 89%|████████▊ | 31/35 [06:02<00:33,  8.48s/it]"
     ]
    },
    {
     "name": "stdout",
     "output_type": "stream",
     "text": [
      "Top 10 similar events have been saved to result/雾山五行1-阴阳.txt\n"
     ]
    },
    {
     "name": "stderr",
     "output_type": "stream",
     "text": [
      " 91%|█████████▏| 32/35 [06:11<00:26,  8.69s/it]"
     ]
    },
    {
     "name": "stdout",
     "output_type": "stream",
     "text": [
      "Top 10 similar events have been saved to result/雾山五行2-阴阳.txt\n"
     ]
    },
    {
     "name": "stderr",
     "output_type": "stream",
     "text": [
      " 94%|█████████▍| 33/35 [06:12<00:12,  6.40s/it]"
     ]
    },
    {
     "name": "stdout",
     "output_type": "stream",
     "text": [
      "Top 10 similar events have been saved to result/哪吒1-人为努力.txt\n"
     ]
    },
    {
     "name": "stderr",
     "output_type": "stream",
     "text": [
      " 97%|█████████▋| 34/35 [06:19<00:06,  6.62s/it]"
     ]
    },
    {
     "name": "stdout",
     "output_type": "stream",
     "text": [
      "Top 10 similar events have been saved to result/大闹天宫1-人为努力.txt\n"
     ]
    },
    {
     "name": "stderr",
     "output_type": "stream",
     "text": [
      "100%|██████████| 35/35 [06:21<00:00, 10.90s/it]"
     ]
    },
    {
     "name": "stdout",
     "output_type": "stream",
     "text": [
      "Top 10 similar events have been saved to result/孙悟空1-性善性恶论.txt\n"
     ]
    },
    {
     "name": "stderr",
     "output_type": "stream",
     "text": [
      "\n"
     ]
    }
   ],
   "source": [
    "def extract_ass_events(file_path):\n",
    "    \"\"\"\n",
    "    从ASS文件中提取[Events]字段的Start, End, Text，并将其组合成字典列表。\n",
    "    同时移除Text字段中的格式标签（例如{\\\\move(1920, 0, -480, 0)}等）。\n",
    "\n",
    "    :param file_path: ASS文件的路径\n",
    "    :return: 包含Start, End, Text字段字典的列表\n",
    "    \"\"\"\n",
    "    # 读取ASS文件内容\n",
    "    with open(file_path, 'r', encoding='utf-8') as file:\n",
    "        ass_content = file.read()\n",
    "\n",
    "    # 正则表达式匹配[Events]字段的Dialogue行，提取Start, End和Text字段\n",
    "    pattern = r'Dialogue:.*?,(.*?),(.*?),(.*?),.*?,.*?,.*?,.*?,.*?,(.*)'\n",
    "\n",
    "    # 用来存储提取出来的数据\n",
    "    events = []\n",
    "\n",
    "    # 查找所有匹配的行\n",
    "    matches = re.findall(pattern, ass_content)\n",
    "\n",
    "    # 正则表达式用于清除Text中的格式标签\n",
    "    format_tag_pattern = r'{.*?}'\n",
    "\n",
    "    # 将每个匹配项处理成字典并添加到列表中\n",
    "    for match in matches:\n",
    "        start, end, _, text = match\n",
    "        # 移除Text字段中的格式标签\n",
    "        cleaned_text = re.sub(format_tag_pattern, '', text).strip()\n",
    "\n",
    "        event_dict = {\n",
    "            'Timeline': start+\"-\"+end,\n",
    "            'Text': cleaned_text\n",
    "        }\n",
    "        events.append(event_dict)\n",
    "\n",
    "    return events\n",
    "\n",
    "\n",
    "def compute_similarity(sentence1, sentence2):\n",
    "    # 中文分词\n",
    "    sentence1 = \" \".join(jieba.cut(sentence1))\n",
    "    sentence2 = \" \".join(jieba.cut(sentence2))\n",
    "\n",
    "    # 初始化TF-IDF向量化器\n",
    "    vectorizer = TfidfVectorizer()\n",
    "\n",
    "    # 将两句话转换为TF-IDF矩阵\n",
    "    tfidf_matrix = vectorizer.fit_transform([sentence1, sentence2])\n",
    "\n",
    "    # 计算两个向量之间的余弦相似度\n",
    "    cosine_sim = cosine_similarity(tfidf_matrix[0], tfidf_matrix[1])\n",
    "\n",
    "    return cosine_sim[0][0]\n",
    "\n",
    "\n",
    "def rank_and_save_similar_texts(events, templates, output_file):\n",
    "    if not templates:\n",
    "        print(\"No templates provided.\")\n",
    "        return\n",
    "\n",
    "    similarities = []\n",
    "    event_template_matches = []\n",
    "\n",
    "    for event in events:\n",
    "        text = event['Text']\n",
    "        best_similarity = -1  # 初始值设为一个不可能的相似度值\n",
    "        best_template = None\n",
    "\n",
    "        for template in templates:\n",
    "            similarity = compute_similarity(text, template)\n",
    "            if similarity > best_similarity:\n",
    "                best_similarity = similarity\n",
    "                best_template = template\n",
    "\n",
    "        if best_template is not None:\n",
    "            event_with_score = event.copy()\n",
    "            event_with_score['Similarity'] = best_similarity\n",
    "            similarities.append((event_with_score, best_similarity))\n",
    "            event_template_matches.append(\n",
    "                (event_with_score, best_template, best_similarity))\n",
    "\n",
    "    # 排序\n",
    "    similarities.sort(key=lambda x: x[1], reverse=True)\n",
    "\n",
    "    # 检查是否有有效匹配\n",
    "    if not event_template_matches:\n",
    "        print(\"No matches found.\")\n",
    "        return\n",
    "\n",
    "    # 取出相似度最高的模板\n",
    "    highest_similarity_template = event_template_matches[0][1]\n",
    "\n",
    "    top_10_similar_events = [event for event, _ in similarities[:10]]\n",
    "\n",
    "    with open(output_file, 'w', encoding='utf-8') as f:\n",
    "        f.write(f\"Most similar template: {highest_similarity_template}\\n\")\n",
    "        for i, event in enumerate(top_10_similar_events, start=1):\n",
    "            f.write(\n",
    "                f\"{i}. Timeline: {event['Timeline']}, Context: {event['Text']}, Similarity: {event['Similarity']:.4f}\\n\")\n",
    "\n",
    "    print(f\"Top 10 similar events have been saved to {output_file}\")\n",
    "\n",
    "\n",
    "def read_file_to_list(file_path):\n",
    "    with open(file_path, 'r', encoding='utf-8') as file:\n",
    "        lines = file.readlines()\n",
    "    return [line.strip() for line in lines]\n",
    "\n",
    "\n",
    "def get_file_paths(file_pairs_path):\n",
    "    \"\"\"\n",
    "    从给定的文件对文本文件中读取每一行，返回两个文件的完整路径。\n",
    "\n",
    "    :param file_pairs_path: 包含文件对的文本文件路径\n",
    "    :return: 一个列表，包含元组，每个元组由两个文件的完整路径组成\n",
    "    \"\"\"\n",
    "    paths = []\n",
    "\n",
    "    # 打开并读取文件\n",
    "    with open(file_pairs_path, 'r', encoding='utf-8') as f:\n",
    "        for line in f:\n",
    "            # 去掉可能存在的换行符\n",
    "            line = line.strip()\n",
    "\n",
    "            # 分割每一行的两个文件名\n",
    "            standard_file, bullet_file = line.split(',')\n",
    "\n",
    "            # 构建文件的完整路径\n",
    "            bullet_path = f\"bullet/{bullet_file}\"\n",
    "            standard_path = f\"standard/{standard_file}\"\n",
    "\n",
    "            # 将文件对的路径添加到列表中\n",
    "            paths.append((bullet_path, standard_path))\n",
    "\n",
    "    return paths\n",
    "\n",
    "\n",
    "def generate_output_filename(bullet_file, standard_file):\n",
    "    \"\"\"\n",
    "    根据bullet_file和standard_file生成output_file的路径，路径保存在result文件夹下，\n",
    "    文件名格式为：bullet_file_name-standard_file_name.txt\n",
    "\n",
    "    :param bullet_file: bullet文件的文件名\n",
    "    :param standard_file: standard文件的文件名\n",
    "    :return: 生成的output_file路径\n",
    "    \"\"\"\n",
    "    # 提取文件名（不带路径部分），去掉扩展名\n",
    "    bullet_name = os.path.splitext(os.path.basename(bullet_file))[0]\n",
    "    standard_name = os.path.splitext(os.path.basename(standard_file))[0]\n",
    "\n",
    "    # 生成输出文件的文件名\n",
    "    output_filename = f\"{bullet_name}-{standard_name}.txt\"\n",
    "\n",
    "    # 确保result文件夹存在\n",
    "    os.makedirs('result', exist_ok=True)\n",
    "\n",
    "    # 返回完整的文件路径\n",
    "    output_file_path = os.path.join('result', output_filename)\n",
    "    return output_file_path\n",
    "\n",
    "\n",
    "task_list = get_file_paths(\"task_list.txt\")\n",
    "\n",
    "for pair in tqdm(task_list):\n",
    "    bullet_file, standard_file = pair\n",
    "    danmaku_list = extract_ass_events(bullet_file)\n",
    "\n",
    "    templates = read_file_to_list(standard_file)\n",
    "    output_file = generate_output_filename(bullet_file, standard_file)\n",
    "    rank_and_save_similar_texts(danmaku_list, templates, output_file)"
   ]
  },
  {
   "cell_type": "code",
   "execution_count": null,
   "metadata": {},
   "outputs": [
    {
     "name": "stderr",
     "output_type": "stream",
     "text": [
      "  3%|▎         | 1/37 [00:31<18:50, 31.41s/it]"
     ]
    },
    {
     "name": "stdout",
     "output_type": "stream",
     "text": [
      "Modified content saved to result_translated/Totoro 1- Harmony in Diversity.txt\n"
     ]
    },
    {
     "name": "stderr",
     "output_type": "stream",
     "text": [
      "  5%|▌         | 2/37 [01:02<18:22, 31.50s/it]"
     ]
    },
    {
     "name": "stdout",
     "output_type": "stream",
     "text": [
      "Modified content saved to result_translated/Princess Mononoke 1- One Man.txt\n"
     ]
    },
    {
     "name": "stderr",
     "output_type": "stream",
     "text": [
      "  8%|▊         | 3/37 [01:35<18:01, 31.81s/it]"
     ]
    },
    {
     "name": "stdout",
     "output_type": "stream",
     "text": [
      "Modified content saved to result_translated/Make Heavenly palace 1- artificial.txt\n"
     ]
    },
    {
     "name": "stderr",
     "output_type": "stream",
     "text": [
      " 11%|█         | 4/37 [02:07<17:32, 31.90s/it]"
     ]
    },
    {
     "name": "stdout",
     "output_type": "stream",
     "text": [
      "Modified content saved to result_translated/Wushan Five Elements 2- Yin and Yang.txt\n"
     ]
    },
    {
     "name": "stderr",
     "output_type": "stream",
     "text": [
      " 14%|█▎        | 5/37 [02:38<16:58, 31.82s/it]"
     ]
    },
    {
     "name": "stdout",
     "output_type": "stream",
     "text": [
      "Modified content saved to result_translated/Five centimetres per second. - One thing.txt\n"
     ]
    },
    {
     "name": "stderr",
     "output_type": "stream",
     "text": [
      " 16%|█▌        | 6/37 [03:10<16:29, 31.92s/it]"
     ]
    },
    {
     "name": "stdout",
     "output_type": "stream",
     "text": [
      "Modified content saved to result_translated/Son of the Sea Beast 1- The philosophy of Water.txt\n"
     ]
    },
    {
     "name": "stderr",
     "output_type": "stream",
     "text": [
      " 19%|█▉        | 7/37 [03:42<15:56, 31.88s/it]"
     ]
    },
    {
     "name": "stdout",
     "output_type": "stream",
     "text": [
      "Modified content saved to result_translated/Spirited Away 1- Harmony in Diversity.txt\n"
     ]
    },
    {
     "name": "stderr",
     "output_type": "stream",
     "text": [
      " 22%|██▏       | 8/37 [04:14<15:25, 31.90s/it]"
     ]
    },
    {
     "name": "stdout",
     "output_type": "stream",
     "text": [
      "Modified content saved to result_translated/Deep Sea 1- Inner peace.txt\n"
     ]
    },
    {
     "name": "stderr",
     "output_type": "stream",
     "text": [
      " 24%|██▍       | 9/37 [04:46<14:53, 31.89s/it]"
     ]
    },
    {
     "name": "stdout",
     "output_type": "stream",
     "text": [
      "Modified content saved to result_translated/panda2- Yin and Yang.txt\n"
     ]
    },
    {
     "name": "stderr",
     "output_type": "stream",
     "text": [
      " 27%|██▋       | 10/37 [05:18<14:21, 31.91s/it]"
     ]
    },
    {
     "name": "stdout",
     "output_type": "stream",
     "text": [
      "Modified content saved to result_translated/Monkey King 1- One of the three poisons in Buddhism.txt\n"
     ]
    },
    {
     "name": "stderr",
     "output_type": "stream",
     "text": [
      " 30%|██▉       | 11/37 [05:50<13:47, 31.81s/it]"
     ]
    },
    {
     "name": "stdout",
     "output_type": "stream",
     "text": [
      "Modified content saved to result_translated/Spirited Away 2- Harmony in Diversity.txt\n"
     ]
    },
    {
     "name": "stderr",
     "output_type": "stream",
     "text": [
      " 32%|███▏      | 12/37 [06:22<13:17, 31.91s/it]"
     ]
    },
    {
     "name": "stdout",
     "output_type": "stream",
     "text": [
      "Modified content saved to result_translated/panda2- The philosophy of water.txt\n"
     ]
    },
    {
     "name": "stderr",
     "output_type": "stream",
     "text": [
      " 35%|███▌      | 13/37 [06:54<12:47, 31.97s/it]"
     ]
    },
    {
     "name": "stdout",
     "output_type": "stream",
     "text": [
      "Modified content saved to result_translated/Sun Wukong 1- Nature is good and nature is evil.txt\n"
     ]
    },
    {
     "name": "stderr",
     "output_type": "stream",
     "text": [
      " 38%|███▊      | 14/37 [07:26<12:16, 32.04s/it]"
     ]
    },
    {
     "name": "stdout",
     "output_type": "stream",
     "text": [
      "Modified content saved to result_translated/Reincarnation Room 2- Reincarnation.txt\n"
     ]
    },
    {
     "name": "stderr",
     "output_type": "stream",
     "text": [
      " 41%|████      | 15/37 [07:58<11:43, 31.96s/it]"
     ]
    },
    {
     "name": "stdout",
     "output_type": "stream",
     "text": [
      "Modified content saved to result_translated/Spirited Away 1- one of the three poisons in Buddhism.txt\n"
     ]
    },
    {
     "name": "stderr",
     "output_type": "stream",
     "text": [
      " 43%|████▎     | 16/37 [08:30<11:13, 32.07s/it]"
     ]
    },
    {
     "name": "stdout",
     "output_type": "stream",
     "text": [
      "Modified content saved to result_translated/Goose Goose Goose 2- one of the three poisons in Buddhism.txt\n"
     ]
    },
    {
     "name": "stderr",
     "output_type": "stream",
     "text": [
      " 46%|████▌     | 17/37 [09:02<10:41, 32.08s/it]"
     ]
    },
    {
     "name": "stdout",
     "output_type": "stream",
     "text": [
      "Modified content saved to result_translated/Goose goose goose 2- Reincarnation.txt\n"
     ]
    },
    {
     "name": "stderr",
     "output_type": "stream",
     "text": [
      " 49%|████▊     | 18/37 [09:34<10:09, 32.08s/it]"
     ]
    },
    {
     "name": "stdout",
     "output_type": "stream",
     "text": [
      "Modified content saved to result_translated/panda2- Inner peace.txt\n"
     ]
    },
    {
     "name": "stderr",
     "output_type": "stream",
     "text": [
      " 51%|█████▏    | 19/37 [10:06<09:37, 32.08s/it]"
     ]
    },
    {
     "name": "stdout",
     "output_type": "stream",
     "text": [
      "Modified content saved to result_translated/Spirited Away 2- Unity of nature and man.txt\n"
     ]
    },
    {
     "name": "stderr",
     "output_type": "stream",
     "text": [
      " 54%|█████▍    | 20/37 [10:38<09:04, 32.04s/it]"
     ]
    },
    {
     "name": "stdout",
     "output_type": "stream",
     "text": [
      "Modified content saved to result_translated/Monkey King 2- Destiny.txt\n"
     ]
    },
    {
     "name": "stderr",
     "output_type": "stream",
     "text": [
      " 57%|█████▋    | 21/37 [11:10<08:31, 32.00s/it]"
     ]
    },
    {
     "name": "stdout",
     "output_type": "stream",
     "text": [
      "Modified content saved to result_translated/Totoro 2- Harmony in Diversity.txt\n"
     ]
    },
    {
     "name": "stderr",
     "output_type": "stream",
     "text": [
      " 59%|█████▉    | 22/37 [11:42<08:00, 32.01s/it]"
     ]
    },
    {
     "name": "stdout",
     "output_type": "stream",
     "text": [
      "Modified content saved to result_translated/Nezha 1- Destiny.txt\n"
     ]
    },
    {
     "name": "stderr",
     "output_type": "stream",
     "text": [
      " 62%|██████▏   | 23/37 [12:14<07:28, 32.01s/it]"
     ]
    },
    {
     "name": "stdout",
     "output_type": "stream",
     "text": [
      "Modified content saved to result_translated/Spirited Away 2- one of the three poisons in Buddhism.txt\n"
     ]
    },
    {
     "name": "stderr",
     "output_type": "stream",
     "text": [
      " 65%|██████▍   | 24/37 [12:46<06:55, 31.93s/it]"
     ]
    },
    {
     "name": "stdout",
     "output_type": "stream",
     "text": [
      "Modified content saved to result_translated/Goose Goose Goose 1- one of the three poisons in Buddhism.txt\n"
     ]
    },
    {
     "name": "stderr",
     "output_type": "stream",
     "text": [
      " 68%|██████▊   | 25/37 [13:18<06:22, 31.90s/it]"
     ]
    },
    {
     "name": "stdout",
     "output_type": "stream",
     "text": [
      "Modified content saved to result_translated/Five centimetres per second. - One thing.txt\n"
     ]
    },
    {
     "name": "stderr",
     "output_type": "stream",
     "text": [
      " 70%|███████   | 26/37 [13:50<05:51, 31.92s/it]"
     ]
    },
    {
     "name": "stdout",
     "output_type": "stream",
     "text": [
      "Modified content saved to result_translated/panda1- Inner peace.txt\n"
     ]
    },
    {
     "name": "stderr",
     "output_type": "stream",
     "text": [
      " 73%|███████▎  | 27/37 [14:22<05:19, 31.94s/it]"
     ]
    },
    {
     "name": "stdout",
     "output_type": "stream",
     "text": [
      "Modified content saved to result_translated/Princess Mononoke 2- One Man.txt\n"
     ]
    },
    {
     "name": "stderr",
     "output_type": "stream",
     "text": [
      " 76%|███████▌  | 28/37 [14:54<04:47, 31.98s/it]"
     ]
    },
    {
     "name": "stdout",
     "output_type": "stream",
     "text": [
      "Modified content saved to result_translated/Misty Mountain five elements 1- Yin and Yang.txt\n"
     ]
    },
    {
     "name": "stderr",
     "output_type": "stream",
     "text": [
      " 78%|███████▊  | 29/37 [15:26<04:15, 31.98s/it]"
     ]
    },
    {
     "name": "stdout",
     "output_type": "stream",
     "text": [
      "Modified content saved to result_translated/Spirited Away 1- Unity of nature and man.txt\n"
     ]
    },
    {
     "name": "stderr",
     "output_type": "stream",
     "text": [
      " 81%|████████  | 30/37 [15:58<03:43, 31.90s/it]"
     ]
    },
    {
     "name": "stdout",
     "output_type": "stream",
     "text": [
      "Modified content saved to result_translated/Goose goose goose 1- Reincarnation.txt\n"
     ]
    },
    {
     "name": "stderr",
     "output_type": "stream",
     "text": [
      " 84%|████████▍ | 31/37 [16:30<03:11, 31.94s/it]"
     ]
    },
    {
     "name": "stdout",
     "output_type": "stream",
     "text": [
      "Modified content saved to result_translated/panda1- Yin and Yang.txt\n"
     ]
    },
    {
     "name": "stderr",
     "output_type": "stream",
     "text": [
      " 86%|████████▋ | 32/37 [17:01<02:39, 31.90s/it]"
     ]
    },
    {
     "name": "stdout",
     "output_type": "stream",
     "text": [
      "Modified content saved to result_translated/Nezha 1- Human.txt\n"
     ]
    },
    {
     "name": "stderr",
     "output_type": "stream",
     "text": [
      " 89%|████████▉ | 33/37 [17:33<02:07, 31.85s/it]"
     ]
    },
    {
     "name": "stdout",
     "output_type": "stream",
     "text": [
      "Modified content saved to result_translated/Nezha 1- Human effort.txt\n"
     ]
    },
    {
     "name": "stderr",
     "output_type": "stream",
     "text": [
      " 92%|█████████▏| 34/37 [18:05<01:35, 31.90s/it]"
     ]
    },
    {
     "name": "stdout",
     "output_type": "stream",
     "text": [
      "Modified content saved to result_translated/The Forest of firefly 1- mourning.txt\n"
     ]
    },
    {
     "name": "stderr",
     "output_type": "stream",
     "text": [
      " 95%|█████████▍| 35/37 [18:38<01:04, 32.16s/it]"
     ]
    },
    {
     "name": "stdout",
     "output_type": "stream",
     "text": [
      "Modified content saved to result_translated/Reincarnation Room 1- Reincarnation.txt\n"
     ]
    },
    {
     "name": "stderr",
     "output_type": "stream",
     "text": [
      " 97%|█████████▋| 36/37 [19:11<00:32, 32.38s/it]"
     ]
    },
    {
     "name": "stdout",
     "output_type": "stream",
     "text": [
      "Modified content saved to result_translated/Uproar in Heaven 1- Human effort.txt\n"
     ]
    },
    {
     "name": "stderr",
     "output_type": "stream",
     "text": [
      "100%|██████████| 37/37 [19:43<00:00, 32.00s/it]"
     ]
    },
    {
     "name": "stdout",
     "output_type": "stream",
     "text": [
      "Modified content saved to result_translated/panda1- The philosophy of water.txt\n"
     ]
    },
    {
     "name": "stderr",
     "output_type": "stream",
     "text": [
      "\n"
     ]
    }
   ],
   "source": [
    "def replace_and_translate(file_path, output_dir, app_key, app_secret, from_lang='zh-CHS', to_lang='en', delay=3):\n",
    "    # Initialize the translation service\n",
    "    translator = Translation(app_key, app_secret)\n",
    "\n",
    "    # Read the content of the provided file\n",
    "    with open(file_path, 'r', encoding='utf-8') as file:\n",
    "        txt_content = file.read()\n",
    "\n",
    "    # Extract the base name of the file without extension\n",
    "    base_name = os.path.splitext(os.path.basename(file_path))[0]\n",
    "\n",
    "    # Translate the base name using the translation function\n",
    "    translated_file_name = translator.translate(base_name, from_lang, to_lang)[\n",
    "        'translation'][0] + \".txt\"\n",
    "\n",
    "    # Build the full output path\n",
    "    full_output_path = os.path.join(output_dir, translated_file_name)\n",
    "\n",
    "    # Regex pattern to capture context field\n",
    "    context_pattern = r\"Context: (.*?),\"\n",
    "\n",
    "    # Function to replace the context with its translation\n",
    "    def replace_with_translation(match):\n",
    "        original_text = match.group(1)\n",
    "        try:\n",
    "            time.sleep(delay)  # Delay the request to avoid hitting rate limits\n",
    "            result = translator.translate(original_text, from_lang, to_lang)\n",
    "            if 'translation' in result and result['translation']:\n",
    "                return f\"Context: {result['translation'][0]},\"\n",
    "            else:\n",
    "                return f\"Context: Translation failed,\"\n",
    "        except Exception as e:\n",
    "            print(f\"Error translating text {original_text}: {e}\")\n",
    "            return f\"Context: Error,\"\n",
    "\n",
    "    # Replace all contexts with their translations\n",
    "    modified_content = re.sub(\n",
    "        context_pattern, replace_with_translation, txt_content)\n",
    "\n",
    "    # Write the modified content to a new file\n",
    "    with open(full_output_path, 'w', encoding='utf-8') as file:\n",
    "        file.write(modified_content)\n",
    "\n",
    "    print(f\"Modified content saved to {full_output_path}\")\n",
    "\n",
    "\n",
    "def process_all_txt_files(input_dir, output_dir, app_key, app_secret):\n",
    "    # List all files in the input directory\n",
    "    for file_name in tqdm(os.listdir(input_dir)):\n",
    "        # Check if the file is a .txt file\n",
    "        if file_name.endswith('.txt'):\n",
    "            # Construct full file path\n",
    "            file_path = os.path.join(input_dir, file_name)\n",
    "            # Use the replace_and_translate function on the file\n",
    "            replace_and_translate(file_path, output_dir, app_key, app_secret)\n",
    "\n",
    "\n",
    "process_all_txt_files('result', 'result_translated',\n",
    "                      \"253b589fa955a5d7\", \"GTMCbm2iApzmIQXnmsJDGgWnuGhLYfDL\")"
   ]
  }
 ],
 "metadata": {
  "kernelspec": {
   "display_name": "tc2py310",
   "language": "python",
   "name": "python3"
  },
  "language_info": {
   "codemirror_mode": {
    "name": "ipython",
    "version": 3
   },
   "file_extension": ".py",
   "mimetype": "text/x-python",
   "name": "python",
   "nbconvert_exporter": "python",
   "pygments_lexer": "ipython3",
   "version": "3.10.14"
  }
 },
 "nbformat": 4,
 "nbformat_minor": 2
}
